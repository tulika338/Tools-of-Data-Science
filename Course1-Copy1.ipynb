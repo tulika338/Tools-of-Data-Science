{
 "cells": [
  {
   "cell_type": "markdown",
   "id": "168a08c4",
   "metadata": {},
   "source": [
    "# Types (Integer, Floats, Strings, Boolean)"
   ]
  },
  {
   "cell_type": "code",
   "execution_count": 8,
   "id": "e36e3b39",
   "metadata": {},
   "outputs": [
    {
     "data": {
      "text/plain": [
       "int"
      ]
     },
     "execution_count": 8,
     "metadata": {},
     "output_type": "execute_result"
    }
   ],
   "source": [
    "type(89)"
   ]
  },
  {
   "cell_type": "code",
   "execution_count": 9,
   "id": "7643e06d",
   "metadata": {},
   "outputs": [
    {
     "data": {
      "text/plain": [
       "float"
      ]
     },
     "execution_count": 9,
     "metadata": {},
     "output_type": "execute_result"
    }
   ],
   "source": [
    "type(90.8876)"
   ]
  },
  {
   "cell_type": "code",
   "execution_count": 1,
   "id": "7a77eedb",
   "metadata": {},
   "outputs": [
    {
     "data": {
      "text/plain": [
       "str"
      ]
     },
     "execution_count": 1,
     "metadata": {},
     "output_type": "execute_result"
    }
   ],
   "source": [
    "type(\"Hey\")"
   ]
  },
  {
   "cell_type": "code",
   "execution_count": 10,
   "id": "3fbb2a56",
   "metadata": {},
   "outputs": [
    {
     "data": {
      "text/plain": [
       "564"
      ]
     },
     "execution_count": 10,
     "metadata": {},
     "output_type": "execute_result"
    }
   ],
   "source": [
    "int(564.998)"
   ]
  },
  {
   "cell_type": "code",
   "execution_count": 2,
   "id": "7d22c4d9",
   "metadata": {},
   "outputs": [
    {
     "data": {
      "text/plain": [
       "9.0"
      ]
     },
     "execution_count": 2,
     "metadata": {},
     "output_type": "execute_result"
    }
   ],
   "source": [
    "float(9)"
   ]
  },
  {
   "cell_type": "code",
   "execution_count": 3,
   "id": "053d56a8",
   "metadata": {},
   "outputs": [
    {
     "data": {
      "text/plain": [
       "1"
      ]
     },
     "execution_count": 3,
     "metadata": {},
     "output_type": "execute_result"
    }
   ],
   "source": [
    "int(\"1\")"
   ]
  },
  {
   "cell_type": "code",
   "execution_count": 6,
   "id": "07611447",
   "metadata": {},
   "outputs": [
    {
     "data": {
      "text/plain": [
       "bool"
      ]
     },
     "execution_count": 6,
     "metadata": {},
     "output_type": "execute_result"
    }
   ],
   "source": [
    "type(True)"
   ]
  },
  {
   "cell_type": "code",
   "execution_count": 7,
   "id": "c8287580",
   "metadata": {},
   "outputs": [
    {
     "data": {
      "text/plain": [
       "True"
      ]
     },
     "execution_count": 7,
     "metadata": {},
     "output_type": "execute_result"
    }
   ],
   "source": [
    "bool(67)"
   ]
  },
  {
   "cell_type": "code",
   "execution_count": 11,
   "id": "0c28680a",
   "metadata": {},
   "outputs": [
    {
     "data": {
      "text/plain": [
       "False"
      ]
     },
     "execution_count": 11,
     "metadata": {},
     "output_type": "execute_result"
    }
   ],
   "source": [
    "bool(0)"
   ]
  },
  {
   "cell_type": "code",
   "execution_count": 12,
   "id": "041b9b54",
   "metadata": {},
   "outputs": [
    {
     "data": {
      "text/plain": [
       "True"
      ]
     },
     "execution_count": 12,
     "metadata": {},
     "output_type": "execute_result"
    }
   ],
   "source": [
    "bool(-88)"
   ]
  },
  {
   "cell_type": "code",
   "execution_count": 13,
   "id": "3eca3c20",
   "metadata": {},
   "outputs": [
    {
     "data": {
      "text/plain": [
       "1"
      ]
     },
     "execution_count": 13,
     "metadata": {},
     "output_type": "execute_result"
    }
   ],
   "source": [
    "int(True)"
   ]
  },
  {
   "cell_type": "code",
   "execution_count": 14,
   "id": "ac3a7c6b",
   "metadata": {},
   "outputs": [
    {
     "data": {
      "text/plain": [
       "0.0"
      ]
     },
     "execution_count": 14,
     "metadata": {},
     "output_type": "execute_result"
    }
   ],
   "source": [
    "float(False)"
   ]
  },
  {
   "cell_type": "markdown",
   "id": "d68a59d0",
   "metadata": {},
   "source": [
    "# Expressions and Variables"
   ]
  },
  {
   "cell_type": "code",
   "execution_count": 15,
   "id": "a088ad3d",
   "metadata": {},
   "outputs": [
    {
     "name": "stdout",
     "output_type": "stream",
     "text": [
      "100\n"
     ]
    }
   ],
   "source": [
    "x=89\n",
    "y=1\n",
    "z=10\n",
    "a=x+y+z\n",
    "print(a)"
   ]
  },
  {
   "cell_type": "code",
   "execution_count": 16,
   "id": "110bab59",
   "metadata": {},
   "outputs": [
    {
     "name": "stdout",
     "output_type": "stream",
     "text": [
      "8.9\n"
     ]
    }
   ],
   "source": [
    "print(x/z)"
   ]
  },
  {
   "cell_type": "code",
   "execution_count": 17,
   "id": "b79cf0ae",
   "metadata": {},
   "outputs": [
    {
     "data": {
      "text/plain": [
       "float"
      ]
     },
     "execution_count": 17,
     "metadata": {},
     "output_type": "execute_result"
    }
   ],
   "source": [
    "type(x/z)"
   ]
  },
  {
   "cell_type": "code",
   "execution_count": 18,
   "id": "f525ccf3",
   "metadata": {},
   "outputs": [
    {
     "name": "stdout",
     "output_type": "stream",
     "text": [
      "8\n"
     ]
    }
   ],
   "source": [
    "print(x//z)"
   ]
  },
  {
   "cell_type": "code",
   "execution_count": 19,
   "id": "b7df6065",
   "metadata": {},
   "outputs": [
    {
     "data": {
      "text/plain": [
       "int"
      ]
     },
     "execution_count": 19,
     "metadata": {},
     "output_type": "execute_result"
    }
   ],
   "source": [
    "type(x//z)"
   ]
  },
  {
   "cell_type": "code",
   "execution_count": 20,
   "id": "a1ac3f31",
   "metadata": {},
   "outputs": [
    {
     "name": "stdout",
     "output_type": "stream",
     "text": [
      "100\n"
     ]
    }
   ],
   "source": [
    "x:89\n",
    "y:1\n",
    "z:10\n",
    "a:x+y+z\n",
    "print(a)"
   ]
  },
  {
   "cell_type": "code",
   "execution_count": 37,
   "id": "0d46f1ac",
   "metadata": {},
   "outputs": [
    {
     "name": "stdout",
     "output_type": "stream",
     "text": [
      "14.833333333333334\n"
     ]
    }
   ],
   "source": [
    "total_hour=total_min/60\n",
    "total_min=890\n",
    "print(total_hour)"
   ]
  },
  {
   "cell_type": "markdown",
   "id": "a9203c9c",
   "metadata": {},
   "source": [
    "# Strings"
   ]
  },
  {
   "cell_type": "code",
   "execution_count": 38,
   "id": "3eec87ef",
   "metadata": {},
   "outputs": [
    {
     "name": "stdout",
     "output_type": "stream",
     "text": [
      "Albus Percival Wulfric Brian Dumbledore\n"
     ]
    }
   ],
   "source": [
    "Name=\"Albus Percival Wulfric Brian Dumbledore\"\n",
    "print(Name)"
   ]
  },
  {
   "cell_type": "code",
   "execution_count": 40,
   "id": "a0561f1d",
   "metadata": {},
   "outputs": [
    {
     "name": "stdout",
     "output_type": "stream",
     "text": [
      "Albus Percival Wulfric Brian Dumbledore\n",
      "ALBUS PERCIVAL WULFRIC BRIAN DUMBLEDORE\n",
      "albus percival wulfric brian dumbledore\n"
     ]
    }
   ],
   "source": [
    "Name=\"Albus Percival Wulfric Brian Dumbledore\"\n",
    "NAME=Name.upper()\n",
    "name=Name.lower()\n",
    "print(Name)\n",
    "print(NAME)\n",
    "print(name)"
   ]
  },
  {
   "cell_type": "code",
   "execution_count": 43,
   "id": "2b5f3b2c",
   "metadata": {},
   "outputs": [
    {
     "name": "stdout",
     "output_type": "stream",
     "text": [
      "s\n"
     ]
    }
   ],
   "source": [
    "print(Name[4])"
   ]
  },
  {
   "cell_type": "code",
   "execution_count": 48,
   "id": "8fb59805",
   "metadata": {},
   "outputs": [
    {
     "name": "stdout",
     "output_type": "stream",
     "text": [
      " \n"
     ]
    }
   ],
   "source": [
    "print(NAME[5])"
   ]
  },
  {
   "cell_type": "code",
   "execution_count": 50,
   "id": "372b621b",
   "metadata": {},
   "outputs": [
    {
     "name": "stdout",
     "output_type": "stream",
     "text": [
      "e\n"
     ]
    }
   ],
   "source": [
    "print(name[38])"
   ]
  },
  {
   "cell_type": "code",
   "execution_count": 46,
   "id": "b3ff72e4",
   "metadata": {},
   "outputs": [
    {
     "data": {
      "text/plain": [
       "39"
      ]
     },
     "execution_count": 46,
     "metadata": {},
     "output_type": "execute_result"
    }
   ],
   "source": [
    "len(Name)"
   ]
  },
  {
   "cell_type": "code",
   "execution_count": 51,
   "id": "8aaf7ee0",
   "metadata": {},
   "outputs": [
    {
     "name": "stdout",
     "output_type": "stream",
     "text": [
      "A\n"
     ]
    }
   ],
   "source": [
    "print(NAME[-39])"
   ]
  },
  {
   "cell_type": "code",
   "execution_count": 52,
   "id": "dd152b0a",
   "metadata": {},
   "outputs": [
    {
     "name": "stdout",
     "output_type": "stream",
     "text": [
      "s Perciv\n"
     ]
    }
   ],
   "source": [
    "print(Name[4:12])"
   ]
  },
  {
   "cell_type": "code",
   "execution_count": 53,
   "id": "298685c2",
   "metadata": {},
   "outputs": [
    {
     "name": "stdout",
     "output_type": "stream",
     "text": [
      "ALBUS PE\n"
     ]
    }
   ],
   "source": [
    "print(NAME[0:8])"
   ]
  },
  {
   "cell_type": "code",
   "execution_count": 54,
   "id": "5b895ff5",
   "metadata": {},
   "outputs": [
    {
     "name": "stdout",
     "output_type": "stream",
     "text": [
      "ABSPRIA UFI RA UBEOE\n"
     ]
    }
   ],
   "source": [
    "print(NAME[::2])"
   ]
  },
  {
   "cell_type": "code",
   "execution_count": 55,
   "id": "2c81814c",
   "metadata": {},
   "outputs": [
    {
     "name": "stdout",
     "output_type": "stream",
     "text": [
      "AuPcaWfcrnulo\n"
     ]
    }
   ],
   "source": [
    "print(Name[::3])"
   ]
  },
  {
   "cell_type": "code",
   "execution_count": 56,
   "id": "c17f5bd5",
   "metadata": {},
   "outputs": [
    {
     "name": "stdout",
     "output_type": "stream",
     "text": [
      "Albus Percival Wulfric Brian Dumbledore is the best Hogwarts Headmaster to have ever lived.\n"
     ]
    }
   ],
   "source": [
    "Sentence=Name+\" is the best Hogwarts Headmaster to have ever lived.\"\n",
    "print(Sentence)"
   ]
  },
  {
   "cell_type": "code",
   "execution_count": 57,
   "id": "acc6a183",
   "metadata": {},
   "outputs": [
    {
     "name": "stdout",
     "output_type": "stream",
     "text": [
      "Albus Percival Wulfric Brian DumbledoreAlbus Percival Wulfric Brian DumbledoreAlbus Percival Wulfric Brian Dumbledore\n"
     ]
    }
   ],
   "source": [
    "Repeat=3*Name\n",
    "print(Repeat)"
   ]
  },
  {
   "cell_type": "code",
   "execution_count": 60,
   "id": "17d77057",
   "metadata": {},
   "outputs": [
    {
     "name": "stdout",
     "output_type": "stream",
     "text": [
      "Albus Percival Wulfric Brian Dumbledore \n",
      " and the story of Hogwarts\n"
     ]
    }
   ],
   "source": [
    "Name=\"Albus Percival Wulfric Brian Dumbledore\"\n",
    "print(Name+\" \\n and the story of Hogwarts\")"
   ]
  },
  {
   "cell_type": "code",
   "execution_count": 61,
   "id": "da0da8f8",
   "metadata": {},
   "outputs": [
    {
     "name": "stdout",
     "output_type": "stream",
     "text": [
      "Albus Percival Wulfric Brian Dumbledore \t and the story of Hogwarts\n"
     ]
    }
   ],
   "source": [
    "Name=\"Albus Percival Wulfric Brian Dumbledore\"\n",
    "print(Name+\" \\t and the story of Hogwarts\")"
   ]
  },
  {
   "cell_type": "code",
   "execution_count": 65,
   "id": "2f687877",
   "metadata": {},
   "outputs": [
    {
     "name": "stdout",
     "output_type": "stream",
     "text": [
      "Choose one of the Deathly Hallows: \\the Cloak of Invisibility\\ the Resurrection Stone\\ the Elder Wand\n"
     ]
    }
   ],
   "source": [
    "print(\"Choose one of the Deathly Hallows: \\\\the Cloak of Invisibility\\\\ the Resurrection Stone\\\\ the Elder Wand\")"
   ]
  },
  {
   "cell_type": "code",
   "execution_count": 66,
   "id": "fe7ec140",
   "metadata": {},
   "outputs": [
    {
     "name": "stdout",
     "output_type": "stream",
     "text": [
      "Harry Potter and The Chamber of Secrets\n"
     ]
    }
   ],
   "source": [
    "A=\"Harry Potter and The Chamber of Secrets\"\n",
    "print(A)"
   ]
  },
  {
   "cell_type": "code",
   "execution_count": 67,
   "id": "268446fc",
   "metadata": {},
   "outputs": [
    {
     "name": "stdout",
     "output_type": "stream",
     "text": [
      "Tom Marvolo Riddle and The Chamber of Secrets\n"
     ]
    }
   ],
   "source": [
    "B=A.replace(\"Harry Potter\",\"Tom Marvolo Riddle\")\n",
    "print(B)"
   ]
  },
  {
   "cell_type": "code",
   "execution_count": 68,
   "id": "c310a07d",
   "metadata": {},
   "outputs": [
    {
     "data": {
      "text/plain": [
       "24"
      ]
     },
     "execution_count": 68,
     "metadata": {},
     "output_type": "execute_result"
    }
   ],
   "source": [
    "Name.find(\"rian\")"
   ]
  },
  {
   "cell_type": "markdown",
   "id": "f52d7390",
   "metadata": {},
   "source": [
    "# Tuples and List"
   ]
  },
  {
   "cell_type": "code",
   "execution_count": 73,
   "id": "b77532de",
   "metadata": {},
   "outputs": [
    {
     "name": "stdout",
     "output_type": "stream",
     "text": [
      "('Harry', 1994, 70.89)\n"
     ]
    }
   ],
   "source": [
    "Tuple1=(\"Harry\",1994,70.89)\n",
    "print(Tuple1)"
   ]
  },
  {
   "cell_type": "code",
   "execution_count": 74,
   "id": "3c4c85db",
   "metadata": {},
   "outputs": [
    {
     "name": "stdout",
     "output_type": "stream",
     "text": [
      "1994\n"
     ]
    }
   ],
   "source": [
    "print(Tuple1[1])"
   ]
  },
  {
   "cell_type": "code",
   "execution_count": 75,
   "id": "9657b584",
   "metadata": {},
   "outputs": [
    {
     "name": "stdout",
     "output_type": "stream",
     "text": [
      "1994\n"
     ]
    }
   ],
   "source": [
    "print(Tuple1[-2])"
   ]
  },
  {
   "cell_type": "code",
   "execution_count": 79,
   "id": "1025404b",
   "metadata": {},
   "outputs": [
    {
     "name": "stdout",
     "output_type": "stream",
     "text": [
      "('Harry', 1994, 70.89, 'Ron and Hermione')\n"
     ]
    }
   ],
   "source": [
    "Tuple2=Tuple1+(\"Ron and Hermione\",)\n",
    "print(Tuple2)"
   ]
  },
  {
   "cell_type": "code",
   "execution_count": 80,
   "id": "87bad6e5",
   "metadata": {},
   "outputs": [
    {
     "name": "stdout",
     "output_type": "stream",
     "text": [
      "('Harry', 1994, 70.89, 'Ron and Hermione', 'Gryffindor', 1980)\n"
     ]
    }
   ],
   "source": [
    "Tuple3=Tuple2+(\"Gryffindor\",1980)\n",
    "print(Tuple3)"
   ]
  },
  {
   "cell_type": "code",
   "execution_count": 82,
   "id": "b38898c8",
   "metadata": {},
   "outputs": [
    {
     "name": "stdout",
     "output_type": "stream",
     "text": [
      "(70.89, 'Ron and Hermione')\n"
     ]
    }
   ],
   "source": [
    "print(Tuple3[2:4])"
   ]
  },
  {
   "cell_type": "code",
   "execution_count": 83,
   "id": "bfaf15f4",
   "metadata": {},
   "outputs": [
    {
     "data": {
      "text/plain": [
       "(70.89, 'Ron and Hermione')"
      ]
     },
     "execution_count": 83,
     "metadata": {},
     "output_type": "execute_result"
    }
   ],
   "source": [
    "Tuple3[2:4]"
   ]
  },
  {
   "cell_type": "code",
   "execution_count": 84,
   "id": "669e3796",
   "metadata": {},
   "outputs": [
    {
     "data": {
      "text/plain": [
       "3"
      ]
     },
     "execution_count": 84,
     "metadata": {},
     "output_type": "execute_result"
    }
   ],
   "source": [
    "len(Tuple1)"
   ]
  },
  {
   "cell_type": "code",
   "execution_count": 90,
   "id": "15a2600c",
   "metadata": {},
   "outputs": [
    {
     "name": "stdout",
     "output_type": "stream",
     "text": [
      "(10, 9, 6, 5, 10, 8, 9, 6, 2)\n"
     ]
    }
   ],
   "source": [
    "Ratings=(10,9,6,5,10,8,9,6,2)\n",
    "print(Ratings)"
   ]
  },
  {
   "cell_type": "code",
   "execution_count": 94,
   "id": "acb511a6",
   "metadata": {},
   "outputs": [
    {
     "name": "stdout",
     "output_type": "stream",
     "text": [
      "(10, 9, 6)\n"
     ]
    }
   ],
   "source": [
    "Ratings1=Ratings\n",
    "Ratings=(10,9,6)\n",
    "print(Ratings1)"
   ]
  },
  {
   "cell_type": "code",
   "execution_count": 95,
   "id": "e0ceaeb4",
   "metadata": {},
   "outputs": [
    {
     "name": "stdout",
     "output_type": "stream",
     "text": [
      "(10, 9, 6)\n"
     ]
    }
   ],
   "source": [
    "print(Ratings1)"
   ]
  },
  {
   "cell_type": "code",
   "execution_count": 96,
   "id": "aad54b67",
   "metadata": {},
   "outputs": [
    {
     "name": "stdout",
     "output_type": "stream",
     "text": [
      "(10, 9, 6, 5, 10, 8, 9, 6, 2)\n"
     ]
    }
   ],
   "source": [
    "Ratings=(10,9,6,5,10,8,9,6,2)\n",
    "print(Ratings)"
   ]
  },
  {
   "cell_type": "code",
   "execution_count": 98,
   "id": "8dcaad0c",
   "metadata": {},
   "outputs": [
    {
     "name": "stdout",
     "output_type": "stream",
     "text": [
      "[2, 5, 6, 6, 8, 9, 9, 10, 10]\n"
     ]
    }
   ],
   "source": [
    "RatingsSorted=sorted(Ratings)\n",
    "print(RatingsSorted)"
   ]
  },
  {
   "cell_type": "code",
   "execution_count": 101,
   "id": "21ee2040",
   "metadata": {},
   "outputs": [
    {
     "name": "stdout",
     "output_type": "stream",
     "text": [
      "[6, 9, 10]\n"
     ]
    }
   ],
   "source": [
    "Ratings1Sorted=sorted(Ratings1)\n",
    "print(Ratings1Sorted)"
   ]
  },
  {
   "cell_type": "code",
   "execution_count": 104,
   "id": "e6adc8d8",
   "metadata": {},
   "outputs": [
    {
     "name": "stdout",
     "output_type": "stream",
     "text": [
      "(1994, ('Harry, Hermione & Ron', 1980), (('Lord Voldemort', 'Grindelwald'), (3, 'Deathly Hallows')))\n"
     ]
    }
   ],
   "source": [
    "TupleNesting=(1994,(\"Harry, Hermione & Ron\",1980),((\"Lord Voldemort\",\"Grindelwald\"),(3,\"Deathly Hallows\")))\n",
    "print(TupleNesting)"
   ]
  },
  {
   "cell_type": "code",
   "execution_count": 114,
   "id": "9fb05d1e",
   "metadata": {},
   "outputs": [
    {
     "data": {
      "text/plain": [
       "(3, 'Deathly Hallows')"
      ]
     },
     "execution_count": 114,
     "metadata": {},
     "output_type": "execute_result"
    }
   ],
   "source": [
    "TupleNesting[2][1]"
   ]
  },
  {
   "cell_type": "code",
   "execution_count": 115,
   "id": "276eac94",
   "metadata": {},
   "outputs": [
    {
     "data": {
      "text/plain": [
       "3"
      ]
     },
     "execution_count": 115,
     "metadata": {},
     "output_type": "execute_result"
    }
   ],
   "source": [
    "TupleNesting[2][1][0]"
   ]
  },
  {
   "cell_type": "code",
   "execution_count": 117,
   "id": "b07c4c7b",
   "metadata": {},
   "outputs": [
    {
     "name": "stdout",
     "output_type": "stream",
     "text": [
      "['Snape', 'Mcgonagall', 993, 9.75]\n",
      "[['Snape,Mcgonagall,Dumbledore', 'Headmasters'], ['founding year', 993], ['platform', 9.75]]\n"
     ]
    }
   ],
   "source": [
    "List1=[\"Snape\",\"Mcgonagall\",993,9.75]\n",
    "List2=[[\"Snape,Mcgonagall,Dumbledore\",\"Headmasters\"],[\"founding year\",993],[\"platform\",9.75]]\n",
    "print(List1)\n",
    "print(List2)"
   ]
  },
  {
   "cell_type": "code",
   "execution_count": 118,
   "id": "c701a970",
   "metadata": {},
   "outputs": [
    {
     "data": {
      "text/plain": [
       "['platform', 9.75]"
      ]
     },
     "execution_count": 118,
     "metadata": {},
     "output_type": "execute_result"
    }
   ],
   "source": [
    "List2[2]"
   ]
  },
  {
   "cell_type": "code",
   "execution_count": 119,
   "id": "5c3c247b",
   "metadata": {},
   "outputs": [
    {
     "data": {
      "text/plain": [
       "'platform'"
      ]
     },
     "execution_count": 119,
     "metadata": {},
     "output_type": "execute_result"
    }
   ],
   "source": [
    "List2[2][0]"
   ]
  },
  {
   "cell_type": "code",
   "execution_count": 120,
   "id": "5f095e90",
   "metadata": {},
   "outputs": [
    {
     "data": {
      "text/plain": [
       "['Mcgonagall', 993]"
      ]
     },
     "execution_count": 120,
     "metadata": {},
     "output_type": "execute_result"
    }
   ],
   "source": [
    "List1[1:3]"
   ]
  },
  {
   "cell_type": "code",
   "execution_count": 124,
   "id": "a3f8556b",
   "metadata": {},
   "outputs": [
    {
     "name": "stdout",
     "output_type": "stream",
     "text": [
      "[['Snape,Mcgonagall,Dumbledore', 'Headmasters'], ['founding year', 993], ['platform', 9.75], 'Harry, Hermione & Ron', 'best friends', 'Harry, Hermione & Ron', 'best friends', 'Harry, Hermione & Ron', 'best friends']\n"
     ]
    }
   ],
   "source": [
    "List2.extend([\"Harry, Hermione & Ron\",\"best friends\"])\n",
    "print(List2)"
   ]
  },
  {
   "cell_type": "code",
   "execution_count": 125,
   "id": "753efe46",
   "metadata": {},
   "outputs": [
    {
     "name": "stdout",
     "output_type": "stream",
     "text": [
      "[['Snape,Mcgonagall,Dumbledore', 'Headmasters'], ['founding year', 993], ['platform', 9.75], 'Harry, Hermione & Ron', 'best friends', 'Harry, Hermione & Ron', 'best friends', 'Harry, Hermione & Ron', 'best friends', ['Peverell brothers', 'original owners of the Deathly Hallows']]\n"
     ]
    }
   ],
   "source": [
    "List2.append([\"Peverell brothers\",\"original owners of the Deathly Hallows\"])\n",
    "print(List2)"
   ]
  },
  {
   "cell_type": "code",
   "execution_count": 126,
   "id": "743db6c4",
   "metadata": {},
   "outputs": [
    {
     "data": {
      "text/plain": [
       "'Harry, Hermione & Ron'"
      ]
     },
     "execution_count": 126,
     "metadata": {},
     "output_type": "execute_result"
    }
   ],
   "source": [
    "List2[3]"
   ]
  },
  {
   "cell_type": "code",
   "execution_count": 129,
   "id": "eaf33fb5",
   "metadata": {},
   "outputs": [
    {
     "name": "stdout",
     "output_type": "stream",
     "text": [
      "[['Snape,Mcgonagall,Dumbledore', 'Headmasters'], ['founding year', 993], ['platform', 9.75], 'Harry, Hermione & Ron', 'best friends', ['Peverell brothers', 'original owners of the Deathly Hallows']]\n"
     ]
    }
   ],
   "source": [
    "del(List2[3])\n",
    "print(List2)"
   ]
  },
  {
   "cell_type": "code",
   "execution_count": 133,
   "id": "46f4f57f",
   "metadata": {},
   "outputs": [
    {
     "data": {
      "text/plain": [
       "'Headmasters'"
      ]
     },
     "execution_count": 133,
     "metadata": {},
     "output_type": "execute_result"
    }
   ],
   "source": [
    "List2[0][1]"
   ]
  },
  {
   "cell_type": "code",
   "execution_count": 141,
   "id": "7950cd1e",
   "metadata": {},
   "outputs": [
    {
     "data": {
      "text/plain": [
       "['Draco', ' Ginny', ' Fred', ' George']"
      ]
     },
     "execution_count": 141,
     "metadata": {},
     "output_type": "execute_result"
    }
   ],
   "source": [
    "\"Draco, Ginny, Fred, George\".split(\",\")"
   ]
  },
  {
   "cell_type": "code",
   "execution_count": 142,
   "id": "07a5a8d9",
   "metadata": {},
   "outputs": [
    {
     "data": {
      "text/plain": [
       "['Draco', 'Ginny', 'Fred', 'George']"
      ]
     },
     "execution_count": 142,
     "metadata": {},
     "output_type": "execute_result"
    }
   ],
   "source": [
    "\"Draco Ginny Fred George\".split( )"
   ]
  },
  {
   "cell_type": "code",
   "execution_count": 146,
   "id": "12904d1c",
   "metadata": {},
   "outputs": [
    {
     "name": "stdout",
     "output_type": "stream",
     "text": [
      "['Oranges', 70, 'Pineapple', 95.5]\n"
     ]
    }
   ],
   "source": [
    "R=[\"Oranges\",70,\"Pineapple\",95.50]\n",
    "print(R)"
   ]
  },
  {
   "cell_type": "code",
   "execution_count": 147,
   "id": "3985b844",
   "metadata": {},
   "outputs": [
    {
     "name": "stdout",
     "output_type": "stream",
     "text": [
      "['Oranges', 70, 'Pineapple', 95.5]\n"
     ]
    }
   ],
   "source": [
    "L=R\n",
    "print(L)"
   ]
  },
  {
   "cell_type": "code",
   "execution_count": 153,
   "id": "c7fadb6c",
   "metadata": {},
   "outputs": [
    {
     "data": {
      "text/plain": [
       "70"
      ]
     },
     "execution_count": 153,
     "metadata": {},
     "output_type": "execute_result"
    }
   ],
   "source": [
    "R[1]"
   ]
  },
  {
   "cell_type": "code",
   "execution_count": 154,
   "id": "d190b44b",
   "metadata": {},
   "outputs": [
    {
     "name": "stdout",
     "output_type": "stream",
     "text": [
      "['Oranges', 75, 'Pineapple', 95.5]\n"
     ]
    }
   ],
   "source": [
    "R[1]=75\n",
    "print(R)"
   ]
  },
  {
   "cell_type": "code",
   "execution_count": 155,
   "id": "97166143",
   "metadata": {},
   "outputs": [
    {
     "name": "stdout",
     "output_type": "stream",
     "text": [
      "['Oranges', 75, 'Pineapple', 95.5]\n"
     ]
    }
   ],
   "source": [
    "print(L)"
   ]
  },
  {
   "cell_type": "code",
   "execution_count": 156,
   "id": "a3a164a4",
   "metadata": {},
   "outputs": [
    {
     "name": "stdout",
     "output_type": "stream",
     "text": [
      "['Oranges', 75, 'Pineapple', 95.5]\n"
     ]
    }
   ],
   "source": [
    "L1=R[:]\n",
    "print(L1)"
   ]
  },
  {
   "cell_type": "code",
   "execution_count": 157,
   "id": "11cbf648",
   "metadata": {},
   "outputs": [
    {
     "name": "stdout",
     "output_type": "stream",
     "text": [
      "['Custard Apple', 75, 'Pineapple', 95.5]\n"
     ]
    }
   ],
   "source": [
    "R[0]=\"Custard Apple\"\n",
    "print(R)"
   ]
  },
  {
   "cell_type": "code",
   "execution_count": 158,
   "id": "a2f1f6f2",
   "metadata": {},
   "outputs": [
    {
     "name": "stdout",
     "output_type": "stream",
     "text": [
      "['Custard Apple', 75, 'Pineapple', 95.5]\n"
     ]
    }
   ],
   "source": [
    "print(L)"
   ]
  },
  {
   "cell_type": "code",
   "execution_count": 159,
   "id": "2c1d5ccc",
   "metadata": {},
   "outputs": [
    {
     "name": "stdout",
     "output_type": "stream",
     "text": [
      "['Oranges', 75, 'Pineapple', 95.5]\n"
     ]
    }
   ],
   "source": [
    "print(L1)"
   ]
  },
  {
   "cell_type": "markdown",
   "id": "74f43f4d",
   "metadata": {},
   "source": [
    "# Dictionaries"
   ]
  },
  {
   "cell_type": "code",
   "execution_count": 166,
   "id": "59606023",
   "metadata": {},
   "outputs": [
    {
     "name": "stdout",
     "output_type": "stream",
     "text": [
      "{'Hogwarts Founding Year': '993 A.D.', 'Main Characters': 'Harry Potter, Ronald Weasley, Hermione Granger', \"Harry's Guardians\": 'James Potter, Lilly Potter, Sirius Black, Albus Dumbledore, Minerva Mcgonagall, Rubeus Hagrid, Severus Snape, Remus Lupin, Molly Weasley', 'Battle of Hogwarts': 1994}\n"
     ]
    }
   ],
   "source": [
    "DictionaryPotterTrivia={\"Hogwarts Founding Year\":\"993 A.D.\",\"Main Characters\":\"Harry Potter, Ronald Weasley, Hermione Granger\",\"Harry's Guardians\":\"James Potter, Lilly Potter, Sirius Black, Albus Dumbledore, Minerva Mcgonagall, Rubeus Hagrid, Severus Snape, Remus Lupin, Molly Weasley\",\"Battle of Hogwarts\":1994}\n",
    "print(DictionaryPotterTrivia)"
   ]
  },
  {
   "cell_type": "code",
   "execution_count": 172,
   "id": "b6e5193b",
   "metadata": {},
   "outputs": [
    {
     "name": "stdout",
     "output_type": "stream",
     "text": [
      "{'Hogwarts Founding Year': '993 A.D.', 'Main Characters': 'Harry Potter, Ronald Weasley, Hermione Granger', \"Harry's Guardians\": 'James Potter, Lilly Potter, Sirius Black, Albus Dumbledore, Minerva Mcgonagall, Rubeus Hagrid, Severus Snape, Remus Lupin, Molly Weasley', 'Battle of Hogwarts': 1994, \"Harry's Pet\": 'Hedwig', 'Hogwarts Express': 5972, 'Dobby': 'Free Elf'}\n"
     ]
    }
   ],
   "source": [
    "DictionaryPotterTrivia[\"Harry's Pet\"]=\"Hedwig\"\n",
    "DictionaryPotterTrivia[\"Hogwarts Express\"]=5972\n",
    "DictionaryPotterTrivia[\"Dobby\"]=\"Free Elf\"\n",
    "print(DictionaryPotterTrivia)"
   ]
  },
  {
   "cell_type": "code",
   "execution_count": 176,
   "id": "acfb5280",
   "metadata": {},
   "outputs": [
    {
     "data": {
      "text/plain": [
       "'Harry Potter, Ronald Weasley, Hermione Granger'"
      ]
     },
     "execution_count": 176,
     "metadata": {},
     "output_type": "execute_result"
    }
   ],
   "source": [
    "DictionaryPotterTrivia[\"Main Characters\"]"
   ]
  },
  {
   "cell_type": "code",
   "execution_count": 179,
   "id": "2c695326",
   "metadata": {},
   "outputs": [
    {
     "name": "stdout",
     "output_type": "stream",
     "text": [
      "{'Hogwarts Founding Year': '993 A.D.', 'Main Characters': 'Harry Potter, Ronald Weasley, Hermione Granger', \"Harry's Guardians\": 'James Potter, Lilly Potter, Sirius Black, Albus Dumbledore, Minerva Mcgonagall, Rubeus Hagrid, Severus Snape, Remus Lupin, Molly Weasley', 'Battle of Hogwarts': 1994, \"Harry's Pet\": 'Hedwig', 'Hogwarts Express': 5972, 'Golum': 'Lord of The Rings'}\n"
     ]
    }
   ],
   "source": [
    "DictionaryPotterTrivia[\"Golum\"]=\"Lord of The Rings\"\n",
    "print(DictionaryPotterTrivia)"
   ]
  },
  {
   "cell_type": "code",
   "execution_count": 180,
   "id": "93bc2012",
   "metadata": {},
   "outputs": [
    {
     "name": "stdout",
     "output_type": "stream",
     "text": [
      "{'Hogwarts Founding Year': '993 A.D.', 'Main Characters': 'Harry Potter, Ronald Weasley, Hermione Granger', \"Harry's Guardians\": 'James Potter, Lilly Potter, Sirius Black, Albus Dumbledore, Minerva Mcgonagall, Rubeus Hagrid, Severus Snape, Remus Lupin, Molly Weasley', 'Battle of Hogwarts': 1994, \"Harry's Pet\": 'Hedwig', 'Hogwarts Express': 5972}\n"
     ]
    }
   ],
   "source": [
    "del(DictionaryPotterTrivia[\"Golum\"])\n",
    "print(DictionaryPotterTrivia)"
   ]
  },
  {
   "cell_type": "code",
   "execution_count": 183,
   "id": "42a69320",
   "metadata": {},
   "outputs": [
    {
     "data": {
      "text/plain": [
       "True"
      ]
     },
     "execution_count": 183,
     "metadata": {},
     "output_type": "execute_result"
    }
   ],
   "source": [
    "\"Harry's Pet\"in DictionaryPotterTrivia"
   ]
  },
  {
   "cell_type": "code",
   "execution_count": 184,
   "id": "624cfbd1",
   "metadata": {},
   "outputs": [
    {
     "data": {
      "text/plain": [
       "False"
      ]
     },
     "execution_count": 184,
     "metadata": {},
     "output_type": "execute_result"
    }
   ],
   "source": [
    "\"Golum\"in DictionaryPotterTrivia"
   ]
  },
  {
   "cell_type": "code",
   "execution_count": 185,
   "id": "7f25d003",
   "metadata": {},
   "outputs": [
    {
     "data": {
      "text/plain": [
       "dict_keys(['Hogwarts Founding Year', 'Main Characters', \"Harry's Guardians\", 'Battle of Hogwarts', \"Harry's Pet\", 'Hogwarts Express'])"
      ]
     },
     "execution_count": 185,
     "metadata": {},
     "output_type": "execute_result"
    }
   ],
   "source": [
    "DictionaryPotterTrivia.keys()"
   ]
  },
  {
   "cell_type": "code",
   "execution_count": null,
   "id": "34cde00d",
   "metadata": {},
   "outputs": [],
   "source": []
  }
 ],
 "metadata": {
  "kernelspec": {
   "display_name": "Python 3 (ipykernel)",
   "language": "python",
   "name": "python3"
  },
  "language_info": {
   "codemirror_mode": {
    "name": "ipython",
    "version": 3
   },
   "file_extension": ".py",
   "mimetype": "text/x-python",
   "name": "python",
   "nbconvert_exporter": "python",
   "pygments_lexer": "ipython3",
   "version": "3.9.7"
  }
 },
 "nbformat": 4,
 "nbformat_minor": 5
}
